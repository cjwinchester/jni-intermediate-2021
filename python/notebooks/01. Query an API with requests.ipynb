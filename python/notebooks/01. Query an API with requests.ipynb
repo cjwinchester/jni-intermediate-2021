{
 "cells": [
  {
   "cell_type": "markdown",
   "id": "d49e3a84",
   "metadata": {},
   "source": [
    "# Query an API\n",
    "\n",
    "This notebook has code to fetch some data from the [National Museum of Australia API](https://github.com/NationalMuseumAustralia/Collection-API/wiki/Getting-started) and from the beta version of the [Australian Bureau of Statistics API](https://api.gov.au/service/715cdfd0-4742-402e-8729-086a7fd42a51).\n",
    "\n",
    "In each case, we'll use the examples included in the documentation for the API -- in the first case, looking at museum materials [made of bark](https://github.com/NationalMuseumAustralia/Collection-API/wiki/Getting-started#access), and in the second case, sussing out how many litres of alcohol Australians drink annually [via mid-strength beer](https://api.gov.au/service/715cdfd0-4742-402e-8729-086a7fd42a51/Worked%20Examples) -- but implement them as Python code."
   ]
  },
  {
   "cell_type": "code",
   "execution_count": 2,
   "id": "579ddc4d",
   "metadata": {},
   "outputs": [],
   "source": [
    "# used to fetch the API keys stored as environment variables\n",
    "import os\n",
    "\n",
    "# used to make the actual API calls\n",
    "import requests\n",
    "# used to show how to feed the data into a dataframe for analysis\n",
    "import pandas as pd"
   ]
  },
  {
   "cell_type": "markdown",
   "id": "c9a0a83f",
   "metadata": {},
   "source": [
    "## National Museum API"
   ]
  },
  {
   "cell_type": "code",
   "execution_count": 3,
   "id": "1dcfc53d",
   "metadata": {},
   "outputs": [],
   "source": [
    "# all endpoints begin with this URL\n",
    "api_base_route_mus = 'https://data.nma.gov.au'"
   ]
  },
  {
   "cell_type": "code",
   "execution_count": 4,
   "id": "e03f21b2",
   "metadata": {},
   "outputs": [],
   "source": [
    "# let's look at the /object endpoint, following the example in the docs\n",
    "# using f-strings here to build the URL: https://docs.python.org/3/tutorial/inputoutput.html#tut-f-strings\n",
    "endpoint_mus = f'{api_base_route_mus}/object'"
   ]
  },
  {
   "cell_type": "code",
   "execution_count": 5,
   "id": "36c56959",
   "metadata": {},
   "outputs": [],
   "source": [
    "# with requests, you can pass URL parameters as a dictionary\n",
    "params = {\n",
    "    'title': 'bark'\n",
    "}"
   ]
  },
  {
   "cell_type": "code",
   "execution_count": 6,
   "id": "fba6cf44",
   "metadata": {},
   "outputs": [],
   "source": [
    "# make the request to the endpoint using those parameters\n",
    "# and store the results in a variable\n",
    "req_mus = requests.get(\n",
    "    endpoint_mus,\n",
    "    params=params\n",
    ")"
   ]
  },
  {
   "cell_type": "code",
   "execution_count": 7,
   "id": "8c41c618",
   "metadata": {},
   "outputs": [],
   "source": [
    "# use requests' built-in JSON encoder/decoder rather than manually converting the string to JSON\n",
    "# https://docs.python-requests.org/en/master/user/quickstart/#json-response-content\n",
    "data_mus = req_mus.json()"
   ]
  },
  {
   "cell_type": "code",
   "execution_count": null,
   "id": "fe256470",
   "metadata": {},
   "outputs": [],
   "source": [
    "print(data_mus)"
   ]
  },
  {
   "cell_type": "markdown",
   "id": "2a3cbfea",
   "metadata": {},
   "source": [
    "### Next steps\n",
    "\n",
    "We've got the data stored in a variable. Now what? Depends entirely on your project! Maybe this API call is just a small chunk of a larger project that involves filtering the results to find something interesting, then Tweeting that out (which would involve interacting with the Twitter API) or sending a Slack message to your coworkers (which would involve interacting with the Slack API) or sending an email (Gmail API); or maybe you're doing a data analysis project, so you'd feed these results into a pandas dataframe; or maybe you're just getting a cut of the data to share with a colleague, in which case you'd need to write this data to file; etc.\n",
    "\n",
    "For our purposes today, let's just write these results to file. Because the `json()` method converted the string of JSON into a Python data structure, we'll need to use the `.text` attribute instead when writing to file."
   ]
  },
  {
   "cell_type": "code",
   "execution_count": 10,
   "id": "a8fc555f",
   "metadata": {},
   "outputs": [],
   "source": [
    "# in a with block, open a file in write mode\n",
    "# https://docs.python.org/3/library/functions.html#open\n",
    "with open('aus-nat-museum-bark.json', 'w') as outfile:\n",
    "    outfile.write(req_mus.text)"
   ]
  },
  {
   "cell_type": "markdown",
   "id": "8c1a5b54",
   "metadata": {},
   "source": [
    "## Australian Bureau of Statistics API (beta)"
   ]
  },
  {
   "cell_type": "code",
   "execution_count": 11,
   "id": "23d0e894",
   "metadata": {},
   "outputs": [],
   "source": [
    "# grab a reference to the API key stored on the computer\n",
    "api_key_abs = os.environ.get('AUS_ABS_API_KEY')"
   ]
  },
  {
   "cell_type": "code",
   "execution_count": 12,
   "id": "5fa0581d",
   "metadata": {},
   "outputs": [],
   "source": [
    "# print(api_key_abs)"
   ]
  },
  {
   "cell_type": "code",
   "execution_count": 13,
   "id": "e74bbabd",
   "metadata": {},
   "outputs": [],
   "source": [
    "# all endpoints start with this URL\n",
    "api_base_route_abs = 'https://api.data.abs.gov.au'"
   ]
  },
  {
   "cell_type": "code",
   "execution_count": 14,
   "id": "44695a75",
   "metadata": {},
   "outputs": [],
   "source": [
    "# to authenticate with our API key, add to the headers\n",
    "headers = {\n",
    "    'x-api-key': api_key_abs\n",
    "}"
   ]
  },
  {
   "cell_type": "code",
   "execution_count": 15,
   "id": "4f8ec9aa",
   "metadata": {},
   "outputs": [],
   "source": [
    "# the actual endpoint we'll query -- the lengthy explanation for how\n",
    "# we arrived here is described in the documentation\n",
    "endpoint_abs = f'{api_base_route_abs}/data/ALC/1.2.1.4.A'"
   ]
  },
  {
   "cell_type": "code",
   "execution_count": 16,
   "id": "4575d521",
   "metadata": {},
   "outputs": [],
   "source": [
    "# a parameter to tell the server that we want JSON instead\n",
    "# of the default XML response\n",
    "params = {\n",
    "    'format': 'jsondata'\n",
    "}"
   ]
  },
  {
   "cell_type": "code",
   "execution_count": 17,
   "id": "fb43583a",
   "metadata": {},
   "outputs": [],
   "source": [
    "# send the request with the authentication headers\n",
    "# and the parameters\n",
    "req_abs = requests.get(\n",
    "    endpoint_abs,\n",
    "    headers=headers,\n",
    "    params=params\n",
    ")"
   ]
  },
  {
   "cell_type": "code",
   "execution_count": 18,
   "id": "12523b40",
   "metadata": {},
   "outputs": [],
   "source": [
    "# use requests' built-in JSON encoder/decoder rather than manually converting the string to JSON\n",
    "data_abs = req_abs.json()"
   ]
  },
  {
   "cell_type": "markdown",
   "id": "367e086a",
   "metadata": {},
   "source": [
    "### ⚠️ All of the code that follows will probably confuse you, and that's OK!\n",
    "\n",
    "The way ABS has structured its API is ... less than friendly to end users -- I'm guessing partly because of the complexity of the back-end data? -- and as a result you have to do quite a bit of speleunking in the JSON to find (and reshape) the target data.\n",
    "\n",
    "Two more advanced techniques we use here are:\n",
    "- [List comprehensions](https://docs.python.org/3/tutorial/datastructures.html#list-comprehensions), a way to operate on an iterable data structure (like a list) and store the results in a variable (see also [the relevant section in this notebook](Data%20types%20and%20basic%20syntax.ipynb#List-comprehensions))\n",
    "- [The `zip()` function](https://docs.python.org/3.3/library/functions.html#zip), which we're using here to combine two lists like a zipper"
   ]
  },
  {
   "cell_type": "code",
   "execution_count": 19,
   "id": "80d754ce",
   "metadata": {},
   "outputs": [],
   "source": [
    "# dive into the JSON to retrieve the actual data points\n",
    "observations = data_abs['data']['dataSets'][0]['series']['0:0:0:0:0']['observations']"
   ]
  },
  {
   "cell_type": "code",
   "execution_count": 20,
   "id": "6bed334d",
   "metadata": {},
   "outputs": [],
   "source": [
    "# use a list comprehension to extract just the numeric values\n",
    "annual_data = [observations[x][0] for x in observations]"
   ]
  },
  {
   "cell_type": "code",
   "execution_count": 21,
   "id": "7265e6f2",
   "metadata": {},
   "outputs": [],
   "source": [
    "# dive into a different part of the JSON to get the time values\n",
    "dates = data_abs['data']['structure']['dimensions']['observation'][0]['values']"
   ]
  },
  {
   "cell_type": "code",
   "execution_count": 22,
   "id": "2865595e",
   "metadata": {},
   "outputs": [],
   "source": [
    "# use a list comprehension to grab the year as a number\n",
    "years = [int(x['name']) for x in dates]"
   ]
  },
  {
   "cell_type": "code",
   "execution_count": 23,
   "id": "19062012",
   "metadata": {},
   "outputs": [],
   "source": [
    "# combine the two lists\n",
    "years_data = list(zip(years, annual_data))"
   ]
  },
  {
   "cell_type": "code",
   "execution_count": 24,
   "id": "ec05a93a",
   "metadata": {},
   "outputs": [
    {
     "data": {
      "text/plain": [
       "[(2001, 0.46),\n",
       " (2002, 0.45),\n",
       " (2003, 0.49),\n",
       " (2004, 0.54),\n",
       " (2005, 0.52),\n",
       " (2006, 0.54),\n",
       " (2007, 0.56),\n",
       " (2008, 0.56),\n",
       " (2009, 0.57),\n",
       " (2010, 0.57),\n",
       " (2011, 0.57),\n",
       " (2012, 0.57),\n",
       " (2013, 0.58),\n",
       " (2014, 0.61),\n",
       " (2015, 0.58),\n",
       " (2016, 0.63)]"
      ]
     },
     "execution_count": 24,
     "metadata": {},
     "output_type": "execute_result"
    }
   ],
   "source": [
    "years_data"
   ]
  },
  {
   "cell_type": "code",
   "execution_count": 25,
   "id": "b19af39f",
   "metadata": {},
   "outputs": [],
   "source": [
    "# feed the data into a new pandas dataframe\n",
    "df = pd.DataFrame(years_data, columns=['year', 'litres'])"
   ]
  },
  {
   "cell_type": "code",
   "execution_count": 26,
   "id": "8170c6f8",
   "metadata": {},
   "outputs": [
    {
     "data": {
      "text/html": [
       "<div>\n",
       "<style scoped>\n",
       "    .dataframe tbody tr th:only-of-type {\n",
       "        vertical-align: middle;\n",
       "    }\n",
       "\n",
       "    .dataframe tbody tr th {\n",
       "        vertical-align: top;\n",
       "    }\n",
       "\n",
       "    .dataframe thead th {\n",
       "        text-align: right;\n",
       "    }\n",
       "</style>\n",
       "<table border=\"1\" class=\"dataframe\">\n",
       "  <thead>\n",
       "    <tr style=\"text-align: right;\">\n",
       "      <th></th>\n",
       "      <th>year</th>\n",
       "      <th>litres</th>\n",
       "    </tr>\n",
       "  </thead>\n",
       "  <tbody>\n",
       "    <tr>\n",
       "      <th>0</th>\n",
       "      <td>2001</td>\n",
       "      <td>0.46</td>\n",
       "    </tr>\n",
       "    <tr>\n",
       "      <th>1</th>\n",
       "      <td>2002</td>\n",
       "      <td>0.45</td>\n",
       "    </tr>\n",
       "    <tr>\n",
       "      <th>2</th>\n",
       "      <td>2003</td>\n",
       "      <td>0.49</td>\n",
       "    </tr>\n",
       "    <tr>\n",
       "      <th>3</th>\n",
       "      <td>2004</td>\n",
       "      <td>0.54</td>\n",
       "    </tr>\n",
       "    <tr>\n",
       "      <th>4</th>\n",
       "      <td>2005</td>\n",
       "      <td>0.52</td>\n",
       "    </tr>\n",
       "  </tbody>\n",
       "</table>\n",
       "</div>"
      ],
      "text/plain": [
       "   year  litres\n",
       "0  2001    0.46\n",
       "1  2002    0.45\n",
       "2  2003    0.49\n",
       "3  2004    0.54\n",
       "4  2005    0.52"
      ]
     },
     "execution_count": 26,
     "metadata": {},
     "output_type": "execute_result"
    }
   ],
   "source": [
    "# check the results\n",
    "df.head()"
   ]
  },
  {
   "cell_type": "code",
   "execution_count": 27,
   "id": "e3a00c8b",
   "metadata": {},
   "outputs": [
    {
     "data": {
      "text/plain": [
       "<AxesSubplot:xlabel='year'>"
      ]
     },
     "execution_count": 27,
     "metadata": {},
     "output_type": "execute_result"
    },
    {
     "data": {
      "image/png": "[encoded data removed]",
      "text/plain": [
       "<Figure size 432x288 with 1 Axes>"
      ]
     },
     "metadata": {
      "needs_background": "light"
     },
     "output_type": "display_data"
    }
   ],
   "source": [
    "# and make a simple column chart with matplotlib\n",
    "df.plot.bar(\n",
    "    x='year',\n",
    "    y='litres'\n",
    ")"
   ]
  }
 ],
 "metadata": {
  "kernelspec": {
   "display_name": "Python 3 (ipykernel)",
   "language": "python",
   "name": "python3"
  },
  "language_info": {
   "codemirror_mode": {
    "name": "ipython",
    "version": 3
   },
   "file_extension": ".py",
   "mimetype": "text/x-python",
   "name": "python",
   "nbconvert_exporter": "python",
   "pygments_lexer": "ipython3",
   "version": "3.9.6"
  }
 },
 "nbformat": 4,
 "nbformat_minor": 5
}
