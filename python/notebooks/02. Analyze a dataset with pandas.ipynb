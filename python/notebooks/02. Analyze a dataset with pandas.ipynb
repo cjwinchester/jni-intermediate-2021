{
 "cells": [
  {
   "cell_type": "markdown",
   "id": "f82d409d",
   "metadata": {},
   "source": [
    "# Analyze data with pandas\n",
    "\n",
    "This notebook has code to load [a CSV of Townsville animal complaints](https://data.gov.au/data/dataset/5a005841-f4f2-4c52-82db-8cce70715d72/) into a pandas dataframe for some basic analysis.\n",
    "\n",
    "It would be a good idea to bookmark [the pandas documentation site](https://pandas.pydata.org/docs/) for future reference. See also these reference notebooks for various pandas operations:\n",
    "- [Pandas - Importing data](Pandas%20-%20Importing%20data.ipynb)\n",
    "- [Pandas - Filtering columns and rows](Pandas%20-%20Filtering%20columns%20and%20rows.ipynb)\n",
    "- [Pandas - Grouping data](Pandas%20-%20Grouping%20data.ipynb)\n",
    "- [Pandas - Using the apply method](Pandas%20-%20Using%20the%20apply%20method.ipynb)\n",
    "- [Pandas - Joining data](Pandas%20-%20Joining%20data.ipynb)\n",
    "- [Pandas - Cleaning data](Pandas%20-%20Cleaning%20data.ipynb)"
   ]
  },
  {
   "cell_type": "code",
   "execution_count": null,
   "id": "fd8dc0d9",
   "metadata": {},
   "outputs": [],
   "source": [
    "# importing pandas AS an easier-to-type alias, pd, is the convention\n",
    "import pandas as pd"
   ]
  },
  {
   "cell_type": "markdown",
   "id": "95e4a5a3",
   "metadata": {},
   "source": [
    "## Importing data\n",
    "\n",
    "[You can import many different kinds of data into a pandas from a variety of sources]((Pandas%20-%20Importing%20data.ipynb). In this example, we'll load data directly from a CSV hosted on the federal Australian open data portal.\n",
    "\n",
    "[Here's the pandas documentation for the `read_csv()` method](https://pandas.pydata.org/pandas-docs/stable/reference/api/pandas.read_csv.html)."
   ]
  },
  {
   "cell_type": "code",
   "execution_count": null,
   "id": "1b80405b",
   "metadata": {},
   "outputs": [],
   "source": [
    "df = pd.read_csv('https://data.gov.au/data/dataset/5a005841-f4f2-4c52-82db-8cce70715d72/resource/1211a408-1244-415e-9fee-672e1185ae3a/download/animal-complaints.csv')"
   ]
  },
  {
   "cell_type": "markdown",
   "id": "b28a7eb3",
   "metadata": {},
   "source": [
    "## Get to know your data a little\n",
    "\n",
    "Once you have a dataframe loaded with data, pandas has a number of handy methods to check it out:\n",
    "- `.head()`: Shows you the first 5 records in the data frame (optionally, if you want to see a different number of records, you can pass in a number)\n",
    "- `.tail()`: Same as head(), but it pull records from the end of the dataframe\n",
    "- `.sample(n)` will give you a sample of n rows of the data -- just pass in a number\n",
    "- `.info()` will give you a count of non-null values in each column -- useful for seeing if any columns have null values\n",
    "- `.describe()` will compute summary stats for numeric columns\n",
    "- `.columns` will list the column names\n",
    "- `.dtypes` will list the data types of each column\n",
    "- `.shape` will give you a pair of numbers: (number of rows, number of columns)\n"
   ]
  },
  {
   "cell_type": "code",
   "execution_count": null,
   "id": "cba3fbc1",
   "metadata": {},
   "outputs": [],
   "source": [
    "df.head()"
   ]
  },
  {
   "cell_type": "code",
   "execution_count": null,
   "id": "e055aec9",
   "metadata": {},
   "outputs": [],
   "source": [
    "df.tail()"
   ]
  },
  {
   "cell_type": "code",
   "execution_count": null,
   "id": "4d91888c",
   "metadata": {},
   "outputs": [],
   "source": [
    "df.sample(10)"
   ]
  },
  {
   "cell_type": "code",
   "execution_count": null,
   "id": "cda222c1",
   "metadata": {},
   "outputs": [],
   "source": [
    "df.info()"
   ]
  },
  {
   "cell_type": "code",
   "execution_count": null,
   "id": "248b3d73",
   "metadata": {},
   "outputs": [],
   "source": [
    "df.describe()"
   ]
  },
  {
   "cell_type": "code",
   "execution_count": null,
   "id": "b4ce733d",
   "metadata": {},
   "outputs": [],
   "source": [
    "df.columns"
   ]
  },
  {
   "cell_type": "code",
   "execution_count": null,
   "id": "97f67349",
   "metadata": {},
   "outputs": [],
   "source": [
    "df.dtypes"
   ]
  },
  {
   "cell_type": "code",
   "execution_count": null,
   "id": "d1c55adf",
   "metadata": {},
   "outputs": [],
   "source": [
    "df.shape"
   ]
  },
  {
   "cell_type": "code",
   "execution_count": null,
   "id": "5673704d",
   "metadata": {},
   "outputs": [],
   "source": [
    "# the .shape attribute is a tuple -- number of rows, number of columns --\n",
    "# which means you can access these items like a list\n",
    "num_rows = df.shape[0]\n",
    "num_cols = df.shape[1]"
   ]
  },
  {
   "cell_type": "code",
   "execution_count": null,
   "id": "b2bf9555",
   "metadata": {},
   "outputs": [],
   "source": [
    "print(num_rows)"
   ]
  },
  {
   "cell_type": "markdown",
   "id": "76666be0",
   "metadata": {},
   "source": [
    "## Sort the data\n",
    "\n",
    "To sort a data frame, use the [`sort_values()`](https://pandas.pydata.org/pandas-docs/stable/reference/api/pandas.DataFrame.sort_values.html) method. At a minimum, you need to tell it which column to sort on.\n",
    "\n",
    "Sorting on the `Suburb` column:"
   ]
  },
  {
   "cell_type": "code",
   "execution_count": null,
   "id": "f9fd1093",
   "metadata": {},
   "outputs": [],
   "source": [
    "df.sort_values('Suburb')"
   ]
  },
  {
   "cell_type": "markdown",
   "id": "4bbf1fdf",
   "metadata": {},
   "source": [
    "... or to sort descending:"
   ]
  },
  {
   "cell_type": "code",
   "execution_count": null,
   "id": "b714d0b2",
   "metadata": {},
   "outputs": [],
   "source": [
    "df.sort_values('Suburb', ascending=False)"
   ]
  },
  {
   "cell_type": "markdown",
   "id": "e1957a00",
   "metadata": {},
   "source": [
    "## Filtering data\n",
    "\n",
    "Let's look at two kinds of filtering: Selecting one or more columns to filter vertically, and filtering rows of data based on some criteria."
   ]
  },
  {
   "cell_type": "markdown",
   "id": "48b5d4ca",
   "metadata": {},
   "source": [
    "### Selecting columns\n",
    "\n",
    "Right now we're working with a [`DataFrame`](https://pandas.pydata.org/docs/reference/api/pandas.DataFrame.html) object, which has a two-dimensional tabular layout. Selecting one column will return a [`Series`](https://pandas.pydata.org/docs/reference/api/pandas.Series.html) object. (Selecting multiple columns of data will return another `DataFrame` object.)\n",
    "\n",
    "You can select a column of data using dot notation `.` or bracket notation: `[]`. If you want to select a single column of data and the column name doesn't have spaces, you can use a period (\"dot notation\"). You could also pass the name of the column as a string inside square brackets (\"bracket notation\"); if your column names have spaces (avoid this if you can), you _must_ use bracket notation.\n",
    "\n",
    "Therefore the following two code blocks are equivalent:"
   ]
  },
  {
   "cell_type": "code",
   "execution_count": null,
   "id": "7b8e0b52",
   "metadata": {},
   "outputs": [],
   "source": [
    "df.Suburb"
   ]
  },
  {
   "cell_type": "code",
   "execution_count": null,
   "id": "1fcd62e2",
   "metadata": {},
   "outputs": [],
   "source": [
    "df['Suburb']"
   ]
  },
  {
   "cell_type": "markdown",
   "id": "d6cada1e",
   "metadata": {},
   "source": [
    "... if we wanted to slice out the \"Complaint Type\" column, however, we must use bracket notation because the column label has a space in it:"
   ]
  },
  {
   "cell_type": "code",
   "execution_count": null,
   "id": "b71e2b85",
   "metadata": {},
   "outputs": [],
   "source": [
    "df['Complaint Type']"
   ]
  },
  {
   "cell_type": "markdown",
   "id": "066d9317",
   "metadata": {},
   "source": [
    "### 💥 Bonus math: Using `value_counts()` to compare groups\n",
    "\n",
    "Often, the purpose of selecting a single column of data like this is to perform an integrity check or analyze the values in one column specifically.\n",
    "\n",
    "For instance, you can use the `value_counts()` method on a column of data to produce a quick frequency chart of values, similar to building a pivot table with counts in a spreadsheet program, or using a `COUNT(*)` aggregate in SQL.\n",
    "\n",
    "For example, perhaps we wanted to know the most frequent type of complaint:"
   ]
  },
  {
   "cell_type": "code",
   "execution_count": null,
   "id": "bd27b39f",
   "metadata": {},
   "outputs": [],
   "source": [
    "df['Complaint Type'].value_counts()"
   ]
  },
  {
   "cell_type": "markdown",
   "id": "0c0f11f1",
   "metadata": {},
   "source": [
    "What percentage of the total does that represent? Let's make a few moves to find out:\n",
    "- Save the results of the `value_counts()` operation as a variable, but while we're at it, use the [`reset_index()`](https://pandas.pydata.org/pandas-docs/stable/reference/api/pandas.DataFrame.reset_index.html) method to turn the Series into a DataFrame\n",
    "- Rename the columns in the new dataframe\n",
    "- Create a new column by doing a little math for each type of complaint -- dividing the count for each one into the total number of records in this data, which we stored earlier with the variable `num_rows`, and multiplying the result by 100 to get the percentage of total"
   ]
  },
  {
   "cell_type": "code",
   "execution_count": null,
   "id": "d7611342",
   "metadata": {},
   "outputs": [],
   "source": [
    "df_complaint_type = df['Complaint Type'].value_counts().reset_index()"
   ]
  },
  {
   "cell_type": "code",
   "execution_count": null,
   "id": "cf71d2a5",
   "metadata": {},
   "outputs": [],
   "source": [
    "# rename the column headers\n",
    "df_complaint_type.columns = ['complaint_type', 'complaint_count']"
   ]
  },
  {
   "cell_type": "code",
   "execution_count": null,
   "id": "3a39b21a",
   "metadata": {},
   "outputs": [],
   "source": [
    "df_complaint_type.head()"
   ]
  },
  {
   "cell_type": "code",
   "execution_count": null,
   "id": "f25fac75",
   "metadata": {},
   "outputs": [],
   "source": [
    "# If the operations to create a new column are this straightforward, you\n",
    "# can use the method of bracket-indexing the new column name and assigning\n",
    "# to that column the results of the operation on the right-hand side\n",
    "df_complaint_type['pct'] = (df_complaint_type['complaint_count'] / num_rows) * 100"
   ]
  },
  {
   "cell_type": "code",
   "execution_count": null,
   "id": "2a770c3b",
   "metadata": {},
   "outputs": [],
   "source": [
    "df_complaint_type"
   ]
  },
  {
   "cell_type": "markdown",
   "id": "556df2cc",
   "metadata": {},
   "source": [
    "If the operation needed to create a new column is more complex than this kind of arithmetic, you'll probably need to _apply_ a function -- [here's a notebook with more information on how to do that](Pandas%20-%20Using%20the%20apply%20method.ipynb)."
   ]
  },
  {
   "cell_type": "markdown",
   "id": "80da9901",
   "metadata": {},
   "source": [
    "### Filtering rows\n",
    "\n",
    "Maybe I'm only interested in complaints in Alice River. How would I target those specific rows? With a filter that looks like this:"
   ]
  },
  {
   "cell_type": "code",
   "execution_count": null,
   "id": "cd73978b",
   "metadata": {},
   "outputs": [],
   "source": [
    "df_alice_river = df[df['Suburb'] == 'Alice River']"
   ]
  },
  {
   "cell_type": "code",
   "execution_count": null,
   "id": "2bad095f",
   "metadata": {},
   "outputs": [],
   "source": [
    "df_alice_river.head()"
   ]
  },
  {
   "cell_type": "code",
   "execution_count": null,
   "id": "c7af7dd7",
   "metadata": {},
   "outputs": [],
   "source": [
    "# verify what we ended up with\n",
    "df_alice_river.Suburb.value_counts()"
   ]
  },
  {
   "cell_type": "markdown",
   "id": "906c3dfd",
   "metadata": {},
   "source": [
    "So the syntax for filtering is: Drop in the variable name of the dataframe, then open a set of flat brackets, then inside those brackets type the name of the dataframe variable _again_, then use dot or bracket accession to extract a column of data in a series and perform some sort of conditional comparison, then close the outer flat brackets.\n",
    "\n",
    "This is ... kind of bananas! Not much more to say other than: This is the way the authors of this library chose to write the syntax. [You'll find more detailed information and examples in this notebook](Pandas%20-%20Filtering%20columns%20and%20rows.ipynb) -- as with other things, it comes with practice."
   ]
  },
  {
   "cell_type": "markdown",
   "id": "b7eace10",
   "metadata": {},
   "source": [
    "### ... and much more\n",
    "\n",
    "For more example of grouping, joining and cleaning data, see the reference notebooks."
   ]
  }
 ],
 "metadata": {
  "kernelspec": {
   "display_name": "Python 3 (ipykernel)",
   "language": "python",
   "name": "python3"
  },
  "language_info": {
   "codemirror_mode": {
    "name": "ipython",
    "version": 3
   },
   "file_extension": ".py",
   "mimetype": "text/x-python",
   "name": "python",
   "nbconvert_exporter": "python",
   "pygments_lexer": "ipython3",
   "version": "3.9.6"
  }
 },
 "nbformat": 4,
 "nbformat_minor": 5
}
