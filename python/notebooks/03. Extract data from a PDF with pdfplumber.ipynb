{
 "cells": [
  {
   "cell_type": "markdown",
   "id": "50827c70",
   "metadata": {},
   "source": [
    "# Extract data from a PDF\n",
    "\n",
    "This notebook demonstrates how to extract data from a PDF using the [pdfplumber library](https://github.com/jsvine/pdfplumber), which was developed primarily by [Jeremy Singer-Vine](https://www.jsvine.com/), currently at BuzzFeed News.\n",
    "\n",
    "---\n",
    "\n",
    "⚠️ Note: This library works only on native PDFs (e.g. the text is selectable), not on scanned images. If you have a scanned image saved as a PDF, you'd first need to extract the text using some kind of Optical Character Recognition software (I'd suggest using [DocumentCloud](documentcloud.org/), which OCRs image PDFs on import, or a tool like [OCRMyPDF](https://ocrmypdf.readthedocs.io/).)\n",
    "\n",
    "---\n",
    "\n",
    "This example extracts the data tables from a PDF that began life as a spreadsheet -- [a list of WARN notices in California](https://edd.ca.gov/Jobs_and_Training/Layoff_Services_WARN.htm#ListingofWARNNotices) -- but please note that this library is powerful enough to target specific pieces of data from pages using a number of highly customizable extraction strategies."
   ]
  },
  {
   "cell_type": "code",
   "execution_count": null,
   "id": "e4a54015",
   "metadata": {},
   "outputs": [],
   "source": [
    "# import Python's csv module to write the data to file as delimited text\n",
    "import csv\n",
    "\n",
    "# import the library AS pp\n",
    "import pdfplumber as pp"
   ]
  },
  {
   "cell_type": "code",
   "execution_count": null,
   "id": "fa8eb0fc",
   "metadata": {},
   "outputs": [],
   "source": [
    "# open the file using pdfplumber's open() method AS a variable called pdf\n",
    "with pp.open('../data/warnreport.pdf') as pdf:\n",
    "    # loop over list of pages\n",
    "    for page in pdf.pages:\n",
    "        \n",
    "        # extract the first table it finds on each page\n",
    "        table = page.extract_table()\n",
    "        \n",
    "        # loop over the lines in each table\n",
    "        for line in table:\n",
    "            # and print each line to see what's up\n",
    "            print(line)"
   ]
  },
  {
   "cell_type": "markdown",
   "id": "5ff388a9",
   "metadata": {},
   "source": [
    "### Save to file\n",
    "\n",
    "Now that we've freed the data, we could do any number of things with it. Typically the best move is to save the data to a delimited text file, then decide what to do with it from there.\n",
    "\n",
    "So to save the data as a CSV, we can use the [`csv`](https://docs.python.org/3/library/csv.html) module, which is part of Python's standard library.\n",
    "\n",
    "Putting it all together (normally this would all happen in one block of code, but I've broken it out here to demonstrate the iterative process of developing a script):"
   ]
  },
  {
   "cell_type": "code",
   "execution_count": null,
   "id": "4eaa333f",
   "metadata": {},
   "outputs": [],
   "source": [
    "# open the file using pdfplumber's open() method AS a variable called pdf\n",
    "# also, use Python's built-in open() method to create a new file to write to\n",
    "with pp.open('../data/warnreport.pdf') as pdf, open('ca-warn-data.csv', 'w') as outfile:\n",
    "    \n",
    "    # create a CSV writer object and attach it to the file just opened\n",
    "    writer = csv.writer(outfile)\n",
    "    \n",
    "    # loop over list of pages\n",
    "    for page in pdf.pages:\n",
    "        \n",
    "        # extract the first table it finds on each page\n",
    "        table = page.extract_table()\n",
    "        \n",
    "        # ... and write to file\n",
    "        writer.writerows(table)"
   ]
  }
 ],
 "metadata": {
  "kernelspec": {
   "display_name": "Python 3 (ipykernel)",
   "language": "python",
   "name": "python3"
  },
  "language_info": {
   "codemirror_mode": {
    "name": "ipython",
    "version": 3
   },
   "file_extension": ".py",
   "mimetype": "text/x-python",
   "name": "python",
   "nbconvert_exporter": "python",
   "pygments_lexer": "ipython3",
   "version": "3.9.6"
  }
 },
 "nbformat": 4,
 "nbformat_minor": 5
}
