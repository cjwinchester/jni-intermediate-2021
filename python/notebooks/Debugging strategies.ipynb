{
 "cells": [
  {
   "cell_type": "markdown",
   "metadata": {},
   "source": [
    "# Debugging strategies\n",
    "\n",
    "In this notebook, we'll talk about what happens when you get an error message (it will happen often!) and some steps you can take to resolve them.\n",
    "\n",
    "Run the code in the next cell."
   ]
  },
  {
   "cell_type": "code",
   "execution_count": 1,
   "metadata": {
    "scrolled": true
   },
   "outputs": [
    {
     "ename": "SyntaxError",
     "evalue": "invalid syntax (90046043.py, line 3)",
     "output_type": "error",
     "traceback": [
      "\u001b[0;36m  File \u001b[0;32m\"/var/folders/6p/3792ml551vv6d6c6yvwm5py00000gn/T/ipykernel_86133/90046043.py\"\u001b[0;36m, line \u001b[0;32m3\u001b[0m\n\u001b[0;31m    if x > 20\u001b[0m\n\u001b[0m             ^\u001b[0m\n\u001b[0;31mSyntaxError\u001b[0m\u001b[0;31m:\u001b[0m invalid syntax\n"
     ]
    }
   ],
   "source": [
    "x = 10\n",
    "\n",
    "if x > 20\n",
    "    print(f'{x} is greater than 20!')"
   ]
  },
  {
   "cell_type": "markdown",
   "metadata": {},
   "source": [
    "The \"traceback\" message shows you a couple of useful things:\n",
    "\n",
    "- What line the error is on: `line 3`\n",
    "- The class of error: `SyntaxError` (v common)\n",
    "- Exactly _where_ the error occured -- see where the `^` symbol is pointing?\n",
    "\n",
    "What's the problem?\n",
    "\n",
    "#### Googling\n",
    "\n",
    "If it's not immediately clear what's wrong -- if you're not even sure what a `SyntaxError` even is -- I might start by Googling the error messsage, the word \"python\" and maybe some keywords for what I was trying to do when I got the error. Something like [`\"SyntaxError: invalid syntax\" python if statement`](https://www.google.com/search?q=%22SyntaxError%3A+invalid+syntax%22+python+if+statement)\n",
    "\n",
    "Click through the first couple of links -- you'll become _very_ familiar with StackOverflow -- and see if you spot the problem.\n",
    "\n",
    "If you're still stuck, maybe it's time to ...\n",
    "\n",
    "#### Read the docs\n",
    "\n",
    "My next stop would be the Python documentation to find some examples of the thing I'm trying to do. [Here's the page outlining how to write an `if` statement in Python](https://docs.python.org/3/tutorial/controlflow.html). From there, I would copy the example code, run it, compare it line by line with my code and see what's different.\n",
    "\n",
    "If I'm _still_ stuck, I might see if there are other keywords to search on and take another run at Google.\n",
    "\n",
    "#### Use `print()` liberally\n",
    "\n",
    "The `print()` function can be a lifesaver -- it can show you _what_ a value is before you try to do something to it, and whether it matches up with your expectations of what that value should be, and thereby give you a clue about why your script is failing. An example can help clarify this idea.\n",
    "\n",
    "**Scenario:** Your newsroom is handing out longevity bonuses. (Congratulations!) Each employee's bonus will be the number of years they've been with the company, times 50.\n",
    "\n",
    "So we're going to loop over our staff data, held in a list of dictionaries, and calculate each person's bonus."
   ]
  },
  {
   "cell_type": "code",
   "execution_count": 2,
   "metadata": {},
   "outputs": [
    {
     "name": "stdout",
     "output_type": "stream",
     "text": [
      "Fran is getting a bonus of 100\n",
      "Graham is getting a bonus of 350\n",
      "Pat is getting a bonus of 200\n",
      "John is getting a bonus of 2626262626262626262626262626262626262626262626262626262626262626262626262626262626262626262626262626\n",
      "Sue is getting a bonus of 1650\n"
     ]
    }
   ],
   "source": [
    "staff = [\n",
    "    {'name': 'Fran', 'years_of_service': 2, 'job': 'Reporter'},\n",
    "    {'name': 'Graham', 'years_of_service': 7, 'job': 'Reporter'},\n",
    "    {'name': 'Pat', 'years_of_service': 4, 'job': 'Web Producer'},\n",
    "    {'name': 'John', 'years_of_service': '26', 'job': 'Managing Editor'},\n",
    "    {'name': 'Sue', 'years_of_service': 33, 'job': 'Executive Editor'}\n",
    "]\n",
    "\n",
    "for person in staff:\n",
    "    name = person['name']\n",
    "    bonus = person['years_of_service'] * 50\n",
    "    print(f'{name} is getting a bonus of {bonus}')"
   ]
  },
  {
   "cell_type": "markdown",
   "metadata": {},
   "source": [
    "We didn't get an exception, but something is _clearly_ wrong with John's bonus. What's going on?\n",
    "\n",
    "Maybe you spot the error already. If not, we might Google something like [\"python multiply numbers repeating\"](https://www.google.com/search?q=python+multiply+numbers+repeating) -- which leads us to [this StackOverflow answer](https://stackoverflow.com/questions/20401871/want-to-multiply-not-repeat-variable). Is that what's going on here? Let's add a `print()` statement before we do the multiplication and use the [`type()`](https://docs.python.org/3/library/functions.html#type) function to check the value that we're pulling out of each dictionary."
   ]
  },
  {
   "cell_type": "code",
   "execution_count": 3,
   "metadata": {},
   "outputs": [
    {
     "name": "stdout",
     "output_type": "stream",
     "text": [
      "Fran <class 'int'>\n",
      "Fran is getting a bonus of 100\n",
      "Graham <class 'int'>\n",
      "Graham is getting a bonus of 350\n",
      "Pat <class 'int'>\n",
      "Pat is getting a bonus of 200\n",
      "John <class 'str'>\n",
      "John is getting a bonus of 2626262626262626262626262626262626262626262626262626262626262626262626262626262626262626262626262626\n",
      "Sue <class 'int'>\n",
      "Sue is getting a bonus of 1650\n"
     ]
    }
   ],
   "source": [
    "for person in staff:\n",
    "    name = person['name']\n",
    "    bonus = person['years_of_service'] * 50\n",
    "    print(name, type(person['years_of_service']))\n",
    "    print(f'{name} is getting a bonus of {bonus}')"
   ]
  },
  {
   "cell_type": "markdown",
   "metadata": {},
   "source": [
    "Aha! John's value for `years_of_service` has been stored as a string, not an integer. Let's fix that by using the [`int()`](https://docs.python.org/3/library/functions.html#int) function to coerce the value to an integer."
   ]
  },
  {
   "cell_type": "code",
   "execution_count": 4,
   "metadata": {},
   "outputs": [
    {
     "name": "stdout",
     "output_type": "stream",
     "text": [
      "Fran is getting a bonus of 4\n",
      "Graham is getting a bonus of 49\n",
      "Pat is getting a bonus of 16\n",
      "John is getting a bonus of 676\n",
      "Sue is getting a bonus of 1089\n"
     ]
    }
   ],
   "source": [
    "for person in staff:\n",
    "    name = person['name']\n",
    "    bonus = int(person['years_of_service']) ** 2\n",
    "    print(f'{name} is getting a bonus of {bonus}')"
   ]
  },
  {
   "cell_type": "markdown",
   "metadata": {},
   "source": [
    "Winner winner, chicken dinner.\n",
    "\n",
    "Here are some more debugging exercises for you to work through. See if you can figure out what's wrong and fix them."
   ]
  },
  {
   "cell_type": "code",
   "execution_count": 5,
   "metadata": {},
   "outputs": [
    {
     "ename": "SyntaxError",
     "evalue": "invalid syntax (2876108359.py, line 1)",
     "output_type": "error",
     "traceback": [
      "\u001b[0;36m  File \u001b[0;32m\"/var/folders/6p/3792ml551vv6d6c6yvwm5py00000gn/T/ipykernel_86133/2876108359.py\"\u001b[0;36m, line \u001b[0;32m1\u001b[0m\n\u001b[0;31m    print(Hello, Sydney!)\u001b[0m\n\u001b[0m                       ^\u001b[0m\n\u001b[0;31mSyntaxError\u001b[0m\u001b[0;31m:\u001b[0m invalid syntax\n"
     ]
    }
   ],
   "source": [
    "print(Hello, Sydney!)"
   ]
  },
  {
   "cell_type": "code",
   "execution_count": 6,
   "metadata": {},
   "outputs": [
    {
     "ename": "KeyError",
     "evalue": "'drawer_count'",
     "output_type": "error",
     "traceback": [
      "\u001b[0;31m---------------------------------------------------------------------------\u001b[0m",
      "\u001b[0;31mKeyError\u001b[0m                                  Traceback (most recent call last)",
      "\u001b[0;32m/var/folders/6p/3792ml551vv6d6c6yvwm5py00000gn/T/ipykernel_86133/1035002135.py\u001b[0m in \u001b[0;36m<module>\u001b[0;34m\u001b[0m\n\u001b[1;32m      7\u001b[0m }\n\u001b[1;32m      8\u001b[0m \u001b[0;34m\u001b[0m\u001b[0m\n\u001b[0;32m----> 9\u001b[0;31m \u001b[0mprint\u001b[0m\u001b[0;34m(\u001b[0m\u001b[0mdesk\u001b[0m\u001b[0;34m[\u001b[0m\u001b[0;34m'drawer_count'\u001b[0m\u001b[0;34m]\u001b[0m\u001b[0;34m)\u001b[0m\u001b[0;34m\u001b[0m\u001b[0;34m\u001b[0m\u001b[0m\n\u001b[0m",
      "\u001b[0;31mKeyError\u001b[0m: 'drawer_count'"
     ]
    }
   ],
   "source": [
    "desk = {\n",
    "    'wood': 'fir',\n",
    "    'color': 'black',\n",
    "    'height_in': 36,\n",
    "    'width_in': 48,\n",
    "    'length_in': 68\n",
    "}\n",
    "\n",
    "print(desk['drawer_count'])"
   ]
  },
  {
   "cell_type": "code",
   "execution_count": 7,
   "metadata": {},
   "outputs": [
    {
     "ename": "SyntaxError",
     "evalue": "invalid syntax (1961114220.py, line 4)",
     "output_type": "error",
     "traceback": [
      "\u001b[0;36m  File \u001b[0;32m\"/var/folders/6p/3792ml551vv6d6c6yvwm5py00000gn/T/ipykernel_86133/1961114220.py\"\u001b[0;36m, line \u001b[0;32m4\u001b[0m\n\u001b[0;31m    if student = 'Kelly':\u001b[0m\n\u001b[0m               ^\u001b[0m\n\u001b[0;31mSyntaxError\u001b[0m\u001b[0;31m:\u001b[0m invalid syntax\n"
     ]
    }
   ],
   "source": [
    "students = ['Kelly', 'Larry', 'José', 'Frank', 'Sarah', 'Sue']\n",
    "\n",
    "for student in students:\n",
    "    if student = 'Kelly':\n",
    "    print('It's Kelly!')\n",
    "    elif student == 'José':\n",
    "        print(\"It's José!\")"
   ]
  },
  {
   "cell_type": "markdown",
   "metadata": {},
   "source": [
    "### Further reading\n",
    "\n",
    "- [Python's tutorial on errors and exceptions](https://docs.python.org/3/tutorial/errors.html)\n",
    "- [Software Carpentry post on understanding Python errors](https://anenadic.github.io/2014-11-10-manchester/novice/python/07-errors.html)\n",
    "- [How to read a traceback](http://cs.franklin.edu/~ansaria/traceback.html)"
   ]
  }
 ],
 "metadata": {
  "kernelspec": {
   "display_name": "Python 3 (ipykernel)",
   "language": "python",
   "name": "python3"
  },
  "language_info": {
   "codemirror_mode": {
    "name": "ipython",
    "version": 3
   },
   "file_extension": ".py",
   "mimetype": "text/x-python",
   "name": "python",
   "nbconvert_exporter": "python",
   "pygments_lexer": "ipython3",
   "version": "3.9.6"
  }
 },
 "nbformat": 4,
 "nbformat_minor": 2
}
