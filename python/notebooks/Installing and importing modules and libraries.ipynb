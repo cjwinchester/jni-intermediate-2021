{
 "cells": [
  {
   "cell_type": "markdown",
   "metadata": {},
   "source": [
    "# Installing and importing modules and libraries"
   ]
  },
  {
   "cell_type": "markdown",
   "metadata": {},
   "source": [
    "### Importing built-in modules\n",
    "\n",
    "When you install Python, you get a ton of functionality right out of the box, without importing anything.\n",
    "\n",
    "You can also access other code modules that come bundled in what's called the \"[standard library](https://docs.python.org/3/library/)\" -- but to use these bits of functionality, you need to _import_ them into your script.\n",
    "\n",
    "Let's import the `time` module from the standard library, then use its `sleep()` method to pause the script for however many seconds we specify (2)."
   ]
  },
  {
   "cell_type": "code",
   "execution_count": 4,
   "metadata": {},
   "outputs": [],
   "source": [
    "import time\n",
    "time.sleep(2)"
   ]
  },
  {
   "cell_type": "markdown",
   "metadata": {},
   "source": [
    "### Installing and importing external libraries\n",
    "You can also _install_ external Python libraries -- software written by people around the world to help Python developers accomplish different tasks. Here, we're using [Jupyter notebooks](https://jupyter.org/) and the [`pandas`](https://pandas.pydata.org) data analysis library, among others.\n",
    "\n",
    "To manage these dependencies, we're using a built-in Python module called `venv` in conjunction with a built-in tool called `pip`. [You can read more about our recommended setup here](https://docs.google.com/document/d/1cYmpfZEZ8r-09Q6Go917cKVcQk_d0P61gm0q8DAdIdg/edit#).\n",
    "\n",
    "Let's import pandas. When we import it, we'll use the [`as`](https://docs.python.org/3/reference/simple_stmts.html#the-import-statement) keyword to give it an alias -- `pd` -- a convention that makes it quicker to type. In other words, we're gonna use pandas, but we're gonna call it `pd` to save us some typing -- this is generally the convention you'll see when you Google around looking for help."
   ]
  },
  {
   "cell_type": "code",
   "execution_count": 5,
   "metadata": {},
   "outputs": [],
   "source": [
    "import pandas as pd"
   ]
  },
  {
   "cell_type": "markdown",
   "metadata": {},
   "source": [
    "### Importing local code\n",
    "\n",
    "Let's pretend that you have a local Python file, `myfile.py`, that contains some things you'd like to import into this script.\n",
    "\n",
    "Surprise, you don't have to pretend! There *is* a file called `myfile.py` in this folder that contains some things we'd like to import into *this* script. Specifically, we'd like to import a dictionary called `codys_dog` that has some details about Cody's dog Charlie.\n",
    "\n",
    "(This is Charlie:\n",
    "![charlie](https://raw.githubusercontent.com/ireapps/cfj-2018/master/img/charlie.jpg \"charlie\")\n",
    ")\n",
    "\n",
    "The syntax for importing specific bits of functionality from a module:\n",
    "\n",
    "```python\n",
    "from some_module import things\n",
    "```\n",
    "\n",
    "So let's import `codys_dog` from `myfile`."
   ]
  },
  {
   "cell_type": "code",
   "execution_count": 6,
   "metadata": {},
   "outputs": [
    {
     "data": {
      "text/plain": [
       "{'name': 'Charlie',\n",
       " 'breed': '?',\n",
       " 'birthdate': '2017-04-20',\n",
       " 'picture': 'https://raw.githubusercontent.com/ireapps/cfj-2018/master/img/charlie.jpg'}"
      ]
     },
     "execution_count": 6,
     "metadata": {},
     "output_type": "execute_result"
    }
   ],
   "source": [
    "from myfile import codys_dog\n",
    "\n",
    "codys_dog"
   ]
  }
 ],
 "metadata": {
  "kernelspec": {
   "display_name": "Python 3 (ipykernel)",
   "language": "python",
   "name": "python3"
  },
  "language_info": {
   "codemirror_mode": {
    "name": "ipython",
    "version": 3
   },
   "file_extension": ".py",
   "mimetype": "text/x-python",
   "name": "python",
   "nbconvert_exporter": "python",
   "pygments_lexer": "ipython3",
   "version": "3.9.6"
  }
 },
 "nbformat": 4,
 "nbformat_minor": 2
}
