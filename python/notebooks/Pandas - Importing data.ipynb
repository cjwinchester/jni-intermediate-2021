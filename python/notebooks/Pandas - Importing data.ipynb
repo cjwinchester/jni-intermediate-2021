{
 "cells": [
  {
   "cell_type": "markdown",
   "metadata": {},
   "source": [
    "# Importing data into pandas\n",
    "\n",
    "There are tons of ways you can get data into a pandas dataframe. Here are a few of the more common ones.\n",
    "\n",
    "First, let's import pandas `as` pd."
   ]
  },
  {
   "cell_type": "code",
   "execution_count": 12,
   "metadata": {},
   "outputs": [],
   "source": [
    "import pandas as pd"
   ]
  },
  {
   "cell_type": "markdown",
   "metadata": {},
   "source": [
    "### From a CSV file\n",
    "\n",
    "If your data file is delimited with something other than a comma, you'll need to specify that in the `sep` argument. For example, if you had a pipe-delimited file: `pd.read_csv('../data/my-delimited-file.txt', sep='|')`\n",
    "\n",
    "Let's read in the MLB salary data."
   ]
  },
  {
   "cell_type": "code",
   "execution_count": 13,
   "metadata": {},
   "outputs": [],
   "source": [
    "csv_df = pd.read_csv('../data/mlb.csv')"
   ]
  },
  {
   "cell_type": "code",
   "execution_count": 14,
   "metadata": {},
   "outputs": [
    {
     "data": {
      "text/html": [
       "<div>\n",
       "<style scoped>\n",
       "    .dataframe tbody tr th:only-of-type {\n",
       "        vertical-align: middle;\n",
       "    }\n",
       "\n",
       "    .dataframe tbody tr th {\n",
       "        vertical-align: top;\n",
       "    }\n",
       "\n",
       "    .dataframe thead th {\n",
       "        text-align: right;\n",
       "    }\n",
       "</style>\n",
       "<table border=\"1\" class=\"dataframe\">\n",
       "  <thead>\n",
       "    <tr style=\"text-align: right;\">\n",
       "      <th></th>\n",
       "      <th>NAME</th>\n",
       "      <th>TEAM</th>\n",
       "      <th>POS</th>\n",
       "      <th>SALARY</th>\n",
       "      <th>START_YEAR</th>\n",
       "      <th>END_YEAR</th>\n",
       "      <th>YEARS</th>\n",
       "    </tr>\n",
       "  </thead>\n",
       "  <tbody>\n",
       "    <tr>\n",
       "      <th>0</th>\n",
       "      <td>Clayton Kershaw</td>\n",
       "      <td>LAD</td>\n",
       "      <td>SP</td>\n",
       "      <td>33000000</td>\n",
       "      <td>2014</td>\n",
       "      <td>2020</td>\n",
       "      <td>7</td>\n",
       "    </tr>\n",
       "    <tr>\n",
       "      <th>1</th>\n",
       "      <td>Zack Greinke</td>\n",
       "      <td>ARI</td>\n",
       "      <td>SP</td>\n",
       "      <td>31876966</td>\n",
       "      <td>2016</td>\n",
       "      <td>2021</td>\n",
       "      <td>6</td>\n",
       "    </tr>\n",
       "    <tr>\n",
       "      <th>2</th>\n",
       "      <td>David Price</td>\n",
       "      <td>BOS</td>\n",
       "      <td>SP</td>\n",
       "      <td>30000000</td>\n",
       "      <td>2016</td>\n",
       "      <td>2022</td>\n",
       "      <td>7</td>\n",
       "    </tr>\n",
       "    <tr>\n",
       "      <th>3</th>\n",
       "      <td>Miguel Cabrera</td>\n",
       "      <td>DET</td>\n",
       "      <td>1B</td>\n",
       "      <td>28000000</td>\n",
       "      <td>2014</td>\n",
       "      <td>2023</td>\n",
       "      <td>10</td>\n",
       "    </tr>\n",
       "    <tr>\n",
       "      <th>4</th>\n",
       "      <td>Justin Verlander</td>\n",
       "      <td>DET</td>\n",
       "      <td>SP</td>\n",
       "      <td>28000000</td>\n",
       "      <td>2013</td>\n",
       "      <td>2019</td>\n",
       "      <td>7</td>\n",
       "    </tr>\n",
       "  </tbody>\n",
       "</table>\n",
       "</div>"
      ],
      "text/plain": [
       "               NAME TEAM POS    SALARY  START_YEAR  END_YEAR  YEARS\n",
       "0   Clayton Kershaw  LAD  SP  33000000        2014      2020      7\n",
       "1      Zack Greinke  ARI  SP  31876966        2016      2021      6\n",
       "2       David Price  BOS  SP  30000000        2016      2022      7\n",
       "3    Miguel Cabrera  DET  1B  28000000        2014      2023     10\n",
       "4  Justin Verlander  DET  SP  28000000        2013      2019      7"
      ]
     },
     "execution_count": 14,
     "metadata": {},
     "output_type": "execute_result"
    }
   ],
   "source": [
    "csv_df.head()"
   ]
  },
  {
   "cell_type": "markdown",
   "metadata": {},
   "source": [
    "### From a CSV file on the Internet\n",
    "\n",
    "Just pass in the URL. This example uses [animal complaints in Townsville](https://data.gov.au/data/dataset/5a005841-f4f2-4c52-82db-8cce70715d72).\n",
    "\n",
    "The values that get returned aren't live -- like, if the results changed, your data frame would not update with new values. It reads in the data once."
   ]
  },
  {
   "cell_type": "code",
   "execution_count": 16,
   "metadata": {},
   "outputs": [],
   "source": [
    "csvi_df = pd.read_csv('https://data.gov.au/data/dataset/5a005841-f4f2-4c52-82db-8cce70715d72/resource/1211a408-1244-415e-9fee-672e1185ae3a/download/animal-complaints.csv')"
   ]
  },
  {
   "cell_type": "code",
   "execution_count": 17,
   "metadata": {},
   "outputs": [
    {
     "data": {
      "text/html": [
       "<div>\n",
       "<style scoped>\n",
       "    .dataframe tbody tr th:only-of-type {\n",
       "        vertical-align: middle;\n",
       "    }\n",
       "\n",
       "    .dataframe tbody tr th {\n",
       "        vertical-align: top;\n",
       "    }\n",
       "\n",
       "    .dataframe thead th {\n",
       "        text-align: right;\n",
       "    }\n",
       "</style>\n",
       "<table border=\"1\" class=\"dataframe\">\n",
       "  <thead>\n",
       "    <tr style=\"text-align: right;\">\n",
       "      <th></th>\n",
       "      <th>Animal Type</th>\n",
       "      <th>Complaint Type</th>\n",
       "      <th>Date Received</th>\n",
       "      <th>Suburb</th>\n",
       "      <th>Electoral Division</th>\n",
       "    </tr>\n",
       "  </thead>\n",
       "  <tbody>\n",
       "    <tr>\n",
       "      <th>0</th>\n",
       "      <td>dog</td>\n",
       "      <td>Aggressive Animal</td>\n",
       "      <td>June 2021</td>\n",
       "      <td>Alice River</td>\n",
       "      <td>Division 1</td>\n",
       "    </tr>\n",
       "    <tr>\n",
       "      <th>1</th>\n",
       "      <td>dog</td>\n",
       "      <td>Aggressive Animal</td>\n",
       "      <td>June 2021</td>\n",
       "      <td>Alice River</td>\n",
       "      <td>Division 1</td>\n",
       "    </tr>\n",
       "    <tr>\n",
       "      <th>2</th>\n",
       "      <td>dog</td>\n",
       "      <td>Aggressive Animal</td>\n",
       "      <td>June 2021</td>\n",
       "      <td>Alice River</td>\n",
       "      <td>Division 1</td>\n",
       "    </tr>\n",
       "    <tr>\n",
       "      <th>3</th>\n",
       "      <td>dog</td>\n",
       "      <td>Aggressive Animal</td>\n",
       "      <td>June 2021</td>\n",
       "      <td>Alice River</td>\n",
       "      <td>Division 1</td>\n",
       "    </tr>\n",
       "    <tr>\n",
       "      <th>4</th>\n",
       "      <td>dog</td>\n",
       "      <td>Attack</td>\n",
       "      <td>June 2021</td>\n",
       "      <td>Alice River</td>\n",
       "      <td>Division 1</td>\n",
       "    </tr>\n",
       "  </tbody>\n",
       "</table>\n",
       "</div>"
      ],
      "text/plain": [
       "  Animal Type     Complaint Type Date Received       Suburb Electoral Division\n",
       "0         dog  Aggressive Animal     June 2021  Alice River         Division 1\n",
       "1         dog  Aggressive Animal     June 2021  Alice River         Division 1\n",
       "2         dog  Aggressive Animal     June 2021  Alice River         Division 1\n",
       "3         dog  Aggressive Animal     June 2021  Alice River         Division 1\n",
       "4         dog             Attack     June 2021  Alice River         Division 1"
      ]
     },
     "execution_count": 17,
     "metadata": {},
     "output_type": "execute_result"
    }
   ],
   "source": [
    "csvi_df.head()"
   ]
  },
  {
   "cell_type": "markdown",
   "metadata": {},
   "source": [
    "### From an Excel file\n",
    "\n",
    "To read an Excel file in pandas, use the [`read_excel()`](https://pandas.pydata.org/pandas-docs/stable/generated/pandas.read_excel.html) method. If you hadn't installed the `openpyxl` module, you'd need to do that, as well. (We've already done so here.)\n",
    "\n",
    "You might also want to specify the `sheet_name` to select your worksheet of interest -- the default is \"the first one.\"\n",
    "\n",
    "Here, we're reading in a spreadsheet with data on murders in large cities."
   ]
  },
  {
   "cell_type": "code",
   "execution_count": 18,
   "metadata": {},
   "outputs": [],
   "source": [
    "xl_df = pd.read_excel('../data/Homicide2014.xlsx', sheet_name='Murders')"
   ]
  },
  {
   "cell_type": "code",
   "execution_count": 19,
   "metadata": {},
   "outputs": [
    {
     "data": {
      "text/html": [
       "<div>\n",
       "<style scoped>\n",
       "    .dataframe tbody tr th:only-of-type {\n",
       "        vertical-align: middle;\n",
       "    }\n",
       "\n",
       "    .dataframe tbody tr th {\n",
       "        vertical-align: top;\n",
       "    }\n",
       "\n",
       "    .dataframe thead th {\n",
       "        text-align: right;\n",
       "    }\n",
       "</style>\n",
       "<table border=\"1\" class=\"dataframe\">\n",
       "  <thead>\n",
       "    <tr style=\"text-align: right;\">\n",
       "      <th></th>\n",
       "      <th>City</th>\n",
       "      <th>State</th>\n",
       "      <th>Population</th>\n",
       "      <th>Murders</th>\n",
       "    </tr>\n",
       "  </thead>\n",
       "  <tbody>\n",
       "    <tr>\n",
       "      <th>0</th>\n",
       "      <td>New York City</td>\n",
       "      <td>NY</td>\n",
       "      <td>8473938</td>\n",
       "      <td>333</td>\n",
       "    </tr>\n",
       "    <tr>\n",
       "      <th>1</th>\n",
       "      <td>Los Angeles</td>\n",
       "      <td>CA</td>\n",
       "      <td>3906772</td>\n",
       "      <td>260</td>\n",
       "    </tr>\n",
       "    <tr>\n",
       "      <th>2</th>\n",
       "      <td>Chicago</td>\n",
       "      <td>IL</td>\n",
       "      <td>2724121</td>\n",
       "      <td>415</td>\n",
       "    </tr>\n",
       "    <tr>\n",
       "      <th>3</th>\n",
       "      <td>Houston</td>\n",
       "      <td>TX</td>\n",
       "      <td>2219933</td>\n",
       "      <td>242</td>\n",
       "    </tr>\n",
       "    <tr>\n",
       "      <th>4</th>\n",
       "      <td>Philadelphia</td>\n",
       "      <td>PA</td>\n",
       "      <td>1559062</td>\n",
       "      <td>248</td>\n",
       "    </tr>\n",
       "  </tbody>\n",
       "</table>\n",
       "</div>"
      ],
      "text/plain": [
       "             City State  Population  Murders\n",
       "0  New York City     NY     8473938      333\n",
       "1    Los Angeles     CA     3906772      260\n",
       "2        Chicago     IL     2724121      415\n",
       "3        Houston     TX     2219933      242\n",
       "4   Philadelphia     PA     1559062      248"
      ]
     },
     "execution_count": 19,
     "metadata": {},
     "output_type": "execute_result"
    }
   ],
   "source": [
    "xl_df.head()"
   ]
  },
  {
   "cell_type": "markdown",
   "metadata": {},
   "source": [
    "### From a Python data collection\n",
    "\n",
    "Maybe the work you're doing in pandas happens downstream of some other Python processing, so the data exists as a native Python data collection -- say, a list of dictionaries. You can turn this (and other Python data collections, like a list of lists) into a pandas dataframe, too.\n",
    "\n",
    "👉 For more details on Python data collections, [see this notebook](Python%20data%20types%20and%20basic%20syntax.ipynb#Collections-of-data)."
   ]
  },
  {
   "cell_type": "code",
   "execution_count": 20,
   "metadata": {},
   "outputs": [],
   "source": [
    "test_data = [\n",
    "    {'name': 'Cody Winchester', 'job': 'Training director', 'location': 'Spearfish, SD'},\n",
    "    {'name': 'Jacob Sanders', 'job': 'Developer', 'location': 'Pittsburgh, PA'},\n",
    "    {'name': 'Guy Fieri', 'job': 'Gourmand', 'location': 'Flavortown'},\n",
    "]\n",
    "\n",
    "py_df = pd.DataFrame(test_data)"
   ]
  },
  {
   "cell_type": "code",
   "execution_count": 21,
   "metadata": {},
   "outputs": [
    {
     "data": {
      "text/html": [
       "<div>\n",
       "<style scoped>\n",
       "    .dataframe tbody tr th:only-of-type {\n",
       "        vertical-align: middle;\n",
       "    }\n",
       "\n",
       "    .dataframe tbody tr th {\n",
       "        vertical-align: top;\n",
       "    }\n",
       "\n",
       "    .dataframe thead th {\n",
       "        text-align: right;\n",
       "    }\n",
       "</style>\n",
       "<table border=\"1\" class=\"dataframe\">\n",
       "  <thead>\n",
       "    <tr style=\"text-align: right;\">\n",
       "      <th></th>\n",
       "      <th>name</th>\n",
       "      <th>job</th>\n",
       "      <th>location</th>\n",
       "    </tr>\n",
       "  </thead>\n",
       "  <tbody>\n",
       "    <tr>\n",
       "      <th>0</th>\n",
       "      <td>Cody Winchester</td>\n",
       "      <td>Training director</td>\n",
       "      <td>Spearfish, SD</td>\n",
       "    </tr>\n",
       "    <tr>\n",
       "      <th>1</th>\n",
       "      <td>Jacob Sanders</td>\n",
       "      <td>Developer</td>\n",
       "      <td>Pittsburgh, PA</td>\n",
       "    </tr>\n",
       "    <tr>\n",
       "      <th>2</th>\n",
       "      <td>Guy Fieri</td>\n",
       "      <td>Gourmand</td>\n",
       "      <td>Flavortown</td>\n",
       "    </tr>\n",
       "  </tbody>\n",
       "</table>\n",
       "</div>"
      ],
      "text/plain": [
       "              name                job        location\n",
       "0  Cody Winchester  Training director   Spearfish, SD\n",
       "1    Jacob Sanders          Developer  Pittsburgh, PA\n",
       "2        Guy Fieri           Gourmand      Flavortown"
      ]
     },
     "execution_count": 21,
     "metadata": {},
     "output_type": "execute_result"
    }
   ],
   "source": [
    "py_df.head()"
   ]
  },
  {
   "cell_type": "markdown",
   "metadata": {},
   "source": [
    "### From an HTML table\n",
    "\n",
    "OK SO.\n",
    "\n",
    "This one requires you to install and specify the Python package that has the HTML parsing engine of your choice -- [BeautifulSoup](https://www.crummy.com/software/BeautifulSoup/bs4/doc/) or [lxml](http://lxml.de/). The default is `lxml`, but here we're going to use BeautifulSoup.\n",
    "\n",
    "Huge caveat! Pulling data directly from an HTML table can be hit and miss, depending on how hairy the underlying HTML is. And if you want to scrape data from a website, it's usually better practice to save the results to a local file, _then_ load it up for analysis. But it's good to know that it's an option.\n",
    "\n",
    "In this example, we've installed `BeautifulSoup` (alias `bs4`) and we're going to import [a table of media witnesses](https://www.tdcj.state.tx.us/death_row/dr_media_witness_list.html) to Texas death row executions.\n",
    "\n",
    "We're going to pass four things to [the pandas `read_html()` method](https://pandas.pydata.org/pandas-docs/stable/generated/pandas.read_html.html):\n",
    "1. The URL we want to scrape (in quotes, as a string)\n",
    "2. The `flavor` of parser that we'd like to use to process the HTML (`bs4`)\n",
    "3. The HTML attributes of the table we're targeting (in this case, the table has a `class` called `tdcj_table`)\n",
    "4. The number of the list, in the list of lists that gets returned in a dataframe, that has the `header`? (Usually it's 0 -- the first one)\n",
    "\n",
    "Reading through the documentation for this method, we also notice that this method returns a _list_ of matching tables as dataframes, so we need to grab the _first_ item in this list of tables returned. Our arguments were specific enough that there's only one item in the returned list, though, so we can just grab the first item with `[0]`.\n",
    "\n",
    "👉For more details on selecting items from Python lists, see [this notebook](Data%20types%20and%20basic%20syntax.ipynb#Collections-of-data)."
   ]
  },
  {
   "cell_type": "code",
   "execution_count": 22,
   "metadata": {},
   "outputs": [],
   "source": [
    "html_df = pd.read_html('http://www.tdcj.state.tx.us/death_row/dr_media_witness_list.html',\n",
    "                       flavor='bs4',\n",
    "                       attrs={'class': 'tdcj_table'},\n",
    "                       header=0)[0]"
   ]
  },
  {
   "cell_type": "code",
   "execution_count": 23,
   "metadata": {},
   "outputs": [
    {
     "data": {
      "text/html": [
       "<div>\n",
       "<style scoped>\n",
       "    .dataframe tbody tr th:only-of-type {\n",
       "        vertical-align: middle;\n",
       "    }\n",
       "\n",
       "    .dataframe tbody tr th {\n",
       "        vertical-align: top;\n",
       "    }\n",
       "\n",
       "    .dataframe thead th {\n",
       "        text-align: right;\n",
       "    }\n",
       "</style>\n",
       "<table border=\"1\" class=\"dataframe\">\n",
       "  <thead>\n",
       "    <tr style=\"text-align: right;\">\n",
       "      <th></th>\n",
       "      <th>Execution</th>\n",
       "      <th>Link</th>\n",
       "      <th>Last Name</th>\n",
       "      <th>First Name</th>\n",
       "      <th>TDCJ Number</th>\n",
       "      <th>Date</th>\n",
       "      <th>Media Witness List</th>\n",
       "    </tr>\n",
       "  </thead>\n",
       "  <tbody>\n",
       "    <tr>\n",
       "      <th>0</th>\n",
       "      <td>572</td>\n",
       "      <td>Inmate Information</td>\n",
       "      <td>Hummel</td>\n",
       "      <td>John</td>\n",
       "      <td>999567</td>\n",
       "      <td>6/30/2021</td>\n",
       "      <td>Michael Graczyk, Associated Press; Joseph Brow...</td>\n",
       "    </tr>\n",
       "    <tr>\n",
       "      <th>1</th>\n",
       "      <td>571</td>\n",
       "      <td>Inmate Information</td>\n",
       "      <td>Jones</td>\n",
       "      <td>Quintin</td>\n",
       "      <td>999379</td>\n",
       "      <td>5/19/2021</td>\n",
       "      <td>No media witnesses present.</td>\n",
       "    </tr>\n",
       "    <tr>\n",
       "      <th>2</th>\n",
       "      <td>570</td>\n",
       "      <td>Inmate Information</td>\n",
       "      <td>Wardlow</td>\n",
       "      <td>Billy</td>\n",
       "      <td>999137</td>\n",
       "      <td>7/8/2020</td>\n",
       "      <td>Michael Graczyk, Associated Press; Joseph Brow...</td>\n",
       "    </tr>\n",
       "    <tr>\n",
       "      <th>3</th>\n",
       "      <td>569</td>\n",
       "      <td>Inmate Information</td>\n",
       "      <td>Ochoa</td>\n",
       "      <td>Abel</td>\n",
       "      <td>999450</td>\n",
       "      <td>2/6/2020</td>\n",
       "      <td>Michael Graczyk, Associated Press; Joseph Brow...</td>\n",
       "    </tr>\n",
       "    <tr>\n",
       "      <th>4</th>\n",
       "      <td>568</td>\n",
       "      <td>Inmate Information</td>\n",
       "      <td>Gardner</td>\n",
       "      <td>John</td>\n",
       "      <td>999516</td>\n",
       "      <td>1/15/2020</td>\n",
       "      <td>Michael Graczyk, Associated Press; Joseph Brow...</td>\n",
       "    </tr>\n",
       "  </tbody>\n",
       "</table>\n",
       "</div>"
      ],
      "text/plain": [
       "   Execution                Link Last Name First Name TDCJ Number       Date  \\\n",
       "0        572  Inmate Information    Hummel       John      999567  6/30/2021   \n",
       "1        571  Inmate Information     Jones    Quintin      999379  5/19/2021   \n",
       "2        570  Inmate Information   Wardlow      Billy      999137   7/8/2020   \n",
       "3        569  Inmate Information     Ochoa       Abel      999450   2/6/2020   \n",
       "4        568  Inmate Information   Gardner       John      999516  1/15/2020   \n",
       "\n",
       "                                  Media Witness List  \n",
       "0  Michael Graczyk, Associated Press; Joseph Brow...  \n",
       "1                        No media witnesses present.  \n",
       "2  Michael Graczyk, Associated Press; Joseph Brow...  \n",
       "3  Michael Graczyk, Associated Press; Joseph Brow...  \n",
       "4  Michael Graczyk, Associated Press; Joseph Brow...  "
      ]
     },
     "execution_count": 23,
     "metadata": {},
     "output_type": "execute_result"
    }
   ],
   "source": [
    "html_df.head()"
   ]
  }
 ],
 "metadata": {
  "kernelspec": {
   "display_name": "Python 3 (ipykernel)",
   "language": "python",
   "name": "python3"
  },
  "language_info": {
   "codemirror_mode": {
    "name": "ipython",
    "version": 3
   },
   "file_extension": ".py",
   "mimetype": "text/x-python",
   "name": "python",
   "nbconvert_exporter": "python",
   "pygments_lexer": "ipython3",
   "version": "3.9.6"
  }
 },
 "nbformat": 4,
 "nbformat_minor": 2
}
