{
 "cells": [
  {
   "cell_type": "markdown",
   "metadata": {},
   "source": [
    "# Using the `apply()` method in pandas\n",
    "\n",
    "Sometimes, creating a calculated column in pandas is as simple as this:\n",
    "\n",
    "```python\n",
    "df['difference'] = df['first_column'] - df['second_column']\n",
    "```\n",
    "\n",
    "or this:\n",
    "\n",
    "```python\n",
    "df['date_fixed'] = pd.to_datetime(df['date'])\n",
    "```\n",
    "\n",
    "Other times, though, your needs are more complex -- you need to take each row of data in your data frame and do _several things_ to it. That's where [`apply()`](https://pandas.pydata.org/pandas-docs/stable/generated/pandas.DataFrame.apply.html) comes in.\n",
    "\n",
    "Given a function, `apply()` will, uh, _apply_ that function to every row in the data frame. A common scenario for doing so would be to create a new column.\n",
    "\n",
    "An example might make this idea a little more clear. Let's load up a CSV of Texas death row media witnesses."
   ]
  },
  {
   "cell_type": "code",
   "execution_count": 16,
   "metadata": {},
   "outputs": [],
   "source": [
    "import pandas as pd"
   ]
  },
  {
   "cell_type": "code",
   "execution_count": 17,
   "metadata": {},
   "outputs": [],
   "source": [
    "df = pd.read_csv('../data/tx-death-row-media-list.csv', parse_dates=['execution_date'])"
   ]
  },
  {
   "cell_type": "markdown",
   "metadata": {},
   "source": [
    "Now, let's say, we want to create a new column with the _month_ of the execution. [Given what we know about date objects](Date%20and%20time%20data%20types.ipynb), this should be simple, right?\n",
    "\n",
    "So this might be my first guess:"
   ]
  },
  {
   "cell_type": "code",
   "execution_count": 18,
   "metadata": {},
   "outputs": [
    {
     "ename": "AttributeError",
     "evalue": "'Series' object has no attribute 'month'",
     "output_type": "error",
     "traceback": [
      "\u001b[0;31m---------------------------------------------------------------------------\u001b[0m",
      "\u001b[0;31mAttributeError\u001b[0m                            Traceback (most recent call last)",
      "\u001b[0;32m/var/folders/6p/3792ml551vv6d6c6yvwm5py00000gn/T/ipykernel_84144/2562246086.py\u001b[0m in \u001b[0;36m<module>\u001b[0;34m\u001b[0m\n\u001b[0;32m----> 1\u001b[0;31m \u001b[0mdf\u001b[0m\u001b[0;34m[\u001b[0m\u001b[0;34m'month'\u001b[0m\u001b[0;34m]\u001b[0m \u001b[0;34m=\u001b[0m \u001b[0mdf\u001b[0m\u001b[0;34m[\u001b[0m\u001b[0;34m'execution_date'\u001b[0m\u001b[0;34m]\u001b[0m\u001b[0;34m.\u001b[0m\u001b[0mmonth\u001b[0m\u001b[0;34m\u001b[0m\u001b[0;34m\u001b[0m\u001b[0m\n\u001b[0m",
      "\u001b[0;32m~/ire/custom-training/jni-intermediate-2021/env/lib/python3.9/site-packages/pandas/core/generic.py\u001b[0m in \u001b[0;36m__getattr__\u001b[0;34m(self, name)\u001b[0m\n\u001b[1;32m   5485\u001b[0m         ):\n\u001b[1;32m   5486\u001b[0m             \u001b[0;32mreturn\u001b[0m \u001b[0mself\u001b[0m\u001b[0;34m[\u001b[0m\u001b[0mname\u001b[0m\u001b[0;34m]\u001b[0m\u001b[0;34m\u001b[0m\u001b[0;34m\u001b[0m\u001b[0m\n\u001b[0;32m-> 5487\u001b[0;31m         \u001b[0;32mreturn\u001b[0m \u001b[0mobject\u001b[0m\u001b[0;34m.\u001b[0m\u001b[0m__getattribute__\u001b[0m\u001b[0;34m(\u001b[0m\u001b[0mself\u001b[0m\u001b[0;34m,\u001b[0m \u001b[0mname\u001b[0m\u001b[0;34m)\u001b[0m\u001b[0;34m\u001b[0m\u001b[0;34m\u001b[0m\u001b[0m\n\u001b[0m\u001b[1;32m   5488\u001b[0m \u001b[0;34m\u001b[0m\u001b[0m\n\u001b[1;32m   5489\u001b[0m     \u001b[0;32mdef\u001b[0m \u001b[0m__setattr__\u001b[0m\u001b[0;34m(\u001b[0m\u001b[0mself\u001b[0m\u001b[0;34m,\u001b[0m \u001b[0mname\u001b[0m\u001b[0;34m:\u001b[0m \u001b[0mstr\u001b[0m\u001b[0;34m,\u001b[0m \u001b[0mvalue\u001b[0m\u001b[0;34m)\u001b[0m \u001b[0;34m->\u001b[0m \u001b[0;32mNone\u001b[0m\u001b[0;34m:\u001b[0m\u001b[0;34m\u001b[0m\u001b[0;34m\u001b[0m\u001b[0m\n",
      "\u001b[0;31mAttributeError\u001b[0m: 'Series' object has no attribute 'month'"
     ]
    }
   ],
   "source": [
    "df['month'] = df['execution_date'].month"
   ]
  },
  {
   "cell_type": "markdown",
   "metadata": {},
   "source": [
    "Womp womp. Looks like we need to create a _function_ to do this for us. Then we can _apply_ that function to each row.\n",
    "\n",
    "👉 For a refresher on writing your own functions, [check out this notebook](Functions.ipynb)."
   ]
  },
  {
   "cell_type": "code",
   "execution_count": 19,
   "metadata": {},
   "outputs": [],
   "source": [
    "def get_month(row):\n",
    "    '''Given a row of data, return the month of the execution date'''\n",
    "    return row['execution_date'].month"
   ]
  },
  {
   "cell_type": "markdown",
   "metadata": {},
   "source": [
    "... and now we can apply it. We also need to specify _how_ it's going to be applied. `axis=0` is the default and attempts to apply the function to each _column_. We want `axis=1`, which applies the function to each _row_ of data."
   ]
  },
  {
   "cell_type": "code",
   "execution_count": 20,
   "metadata": {},
   "outputs": [],
   "source": [
    "df['month'] = df.apply(get_month, axis=1)"
   ]
  },
  {
   "cell_type": "code",
   "execution_count": 21,
   "metadata": {},
   "outputs": [
    {
     "data": {
      "text/html": [
       "<div>\n",
       "<style scoped>\n",
       "    .dataframe tbody tr th:only-of-type {\n",
       "        vertical-align: middle;\n",
       "    }\n",
       "\n",
       "    .dataframe tbody tr th {\n",
       "        vertical-align: top;\n",
       "    }\n",
       "\n",
       "    .dataframe thead th {\n",
       "        text-align: right;\n",
       "    }\n",
       "</style>\n",
       "<table border=\"1\" class=\"dataframe\">\n",
       "  <thead>\n",
       "    <tr style=\"text-align: right;\">\n",
       "      <th></th>\n",
       "      <th>execution_no</th>\n",
       "      <th>execution_date</th>\n",
       "      <th>journo_last</th>\n",
       "      <th>journo_rest</th>\n",
       "      <th>journo_affiliation</th>\n",
       "      <th>inmate_no</th>\n",
       "      <th>inmate_last</th>\n",
       "      <th>inmate_rest</th>\n",
       "      <th>url</th>\n",
       "      <th>month</th>\n",
       "    </tr>\n",
       "  </thead>\n",
       "  <tbody>\n",
       "    <tr>\n",
       "      <th>0</th>\n",
       "      <td>572</td>\n",
       "      <td>2021-06-30</td>\n",
       "      <td>Graczyk</td>\n",
       "      <td>Michael</td>\n",
       "      <td>Associated Press</td>\n",
       "      <td>999567</td>\n",
       "      <td>Hummel</td>\n",
       "      <td>John</td>\n",
       "      <td>https://www.tdcj.state.tx.us/death_row/dr_info...</td>\n",
       "      <td>6</td>\n",
       "    </tr>\n",
       "    <tr>\n",
       "      <th>1</th>\n",
       "      <td>572</td>\n",
       "      <td>2021-06-30</td>\n",
       "      <td>Brown</td>\n",
       "      <td>Joseph</td>\n",
       "      <td>Huntsville Item</td>\n",
       "      <td>999567</td>\n",
       "      <td>Hummel</td>\n",
       "      <td>John</td>\n",
       "      <td>https://www.tdcj.state.tx.us/death_row/dr_info...</td>\n",
       "      <td>6</td>\n",
       "    </tr>\n",
       "    <tr>\n",
       "      <th>2</th>\n",
       "      <td>571</td>\n",
       "      <td>2021-05-19</td>\n",
       "      <td>No media witnesses present.</td>\n",
       "      <td>NaN</td>\n",
       "      <td>NaN</td>\n",
       "      <td>999379</td>\n",
       "      <td>Jones</td>\n",
       "      <td>Quintin</td>\n",
       "      <td>https://www.tdcj.state.tx.us/death_row/dr_info...</td>\n",
       "      <td>5</td>\n",
       "    </tr>\n",
       "    <tr>\n",
       "      <th>3</th>\n",
       "      <td>570</td>\n",
       "      <td>2020-07-08</td>\n",
       "      <td>Graczyk</td>\n",
       "      <td>Michael</td>\n",
       "      <td>Associated Press</td>\n",
       "      <td>999137</td>\n",
       "      <td>Wardlow</td>\n",
       "      <td>Billy</td>\n",
       "      <td>https://www.tdcj.state.tx.us/death_row/dr_info...</td>\n",
       "      <td>7</td>\n",
       "    </tr>\n",
       "    <tr>\n",
       "      <th>4</th>\n",
       "      <td>570</td>\n",
       "      <td>2020-07-08</td>\n",
       "      <td>Brown</td>\n",
       "      <td>Joseph</td>\n",
       "      <td>Huntsville Item</td>\n",
       "      <td>999137</td>\n",
       "      <td>Wardlow</td>\n",
       "      <td>Billy</td>\n",
       "      <td>https://www.tdcj.state.tx.us/death_row/dr_info...</td>\n",
       "      <td>7</td>\n",
       "    </tr>\n",
       "  </tbody>\n",
       "</table>\n",
       "</div>"
      ],
      "text/plain": [
       "   execution_no execution_date                  journo_last journo_rest  \\\n",
       "0           572     2021-06-30                      Graczyk     Michael   \n",
       "1           572     2021-06-30                        Brown      Joseph   \n",
       "2           571     2021-05-19  No media witnesses present.         NaN   \n",
       "3           570     2020-07-08                      Graczyk     Michael   \n",
       "4           570     2020-07-08                        Brown      Joseph   \n",
       "\n",
       "  journo_affiliation inmate_no inmate_last inmate_rest  \\\n",
       "0   Associated Press    999567      Hummel        John   \n",
       "1    Huntsville Item    999567      Hummel        John   \n",
       "2                NaN    999379       Jones     Quintin   \n",
       "3   Associated Press    999137     Wardlow       Billy   \n",
       "4    Huntsville Item    999137     Wardlow       Billy   \n",
       "\n",
       "                                                 url  month  \n",
       "0  https://www.tdcj.state.tx.us/death_row/dr_info...      6  \n",
       "1  https://www.tdcj.state.tx.us/death_row/dr_info...      6  \n",
       "2  https://www.tdcj.state.tx.us/death_row/dr_info...      5  \n",
       "3  https://www.tdcj.state.tx.us/death_row/dr_info...      7  \n",
       "4  https://www.tdcj.state.tx.us/death_row/dr_info...      7  "
      ]
     },
     "execution_count": 21,
     "metadata": {},
     "output_type": "execute_result"
    }
   ],
   "source": [
    "df.head()"
   ]
  },
  {
   "cell_type": "markdown",
   "metadata": {},
   "source": [
    "We could also have dropped in a _lambda expression_ for the function -- in this case, it's simple enough to be readable:"
   ]
  },
  {
   "cell_type": "code",
   "execution_count": 22,
   "metadata": {},
   "outputs": [],
   "source": [
    "df['month'] = df.apply(lambda x: x['execution_date'].month, axis=1)"
   ]
  }
 ],
 "metadata": {
  "kernelspec": {
   "display_name": "Python 3 (ipykernel)",
   "language": "python",
   "name": "python3"
  },
  "language_info": {
   "codemirror_mode": {
    "name": "ipython",
    "version": 3
   },
   "file_extension": ".py",
   "mimetype": "text/x-python",
   "name": "python",
   "nbconvert_exporter": "python",
   "pygments_lexer": "ipython3",
   "version": "3.9.6"
  }
 },
 "nbformat": 4,
 "nbformat_minor": 2
}
